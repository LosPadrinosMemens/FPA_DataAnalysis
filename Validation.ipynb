{
 "cells": [
  {
   "cell_type": "code",
   "execution_count": null,
   "metadata": {},
   "outputs": [],
   "source": [
    "import pandas as pd\n",
    "from IPython.core.display import display, HTML\n",
    "import matplotlib.pyplot as plt\n",
    "import os"
   ]
  },
  {
   "cell_type": "markdown",
   "metadata": {},
   "source": [
    "Data Cleaning:\n",
    "\n",
    "No missing values are found in the dataset.\n"
   ]
  },
  {
   "cell_type": "code",
   "execution_count": 2,
   "metadata": {},
   "outputs": [
    {
     "data": {
      "text/plain": [
       "(12330, 18)"
      ]
     },
     "metadata": {},
     "output_type": "display_data"
    },
    {
     "data": {
      "text/html": [
       "<div>\n",
       "<style scoped>\n",
       "    .dataframe tbody tr th:only-of-type {\n",
       "        vertical-align: middle;\n",
       "    }\n",
       "\n",
       "    .dataframe tbody tr th {\n",
       "        vertical-align: top;\n",
       "    }\n",
       "\n",
       "    .dataframe thead th {\n",
       "        text-align: right;\n",
       "    }\n",
       "</style>\n",
       "<table border=\"1\" class=\"dataframe\">\n",
       "  <thead>\n",
       "    <tr style=\"text-align: right;\">\n",
       "      <th></th>\n",
       "      <th>Administrative</th>\n",
       "      <th>Administrative_Duration</th>\n",
       "      <th>Informational</th>\n",
       "      <th>Informational_Duration</th>\n",
       "      <th>ProductRelated</th>\n",
       "      <th>ProductRelated_Duration</th>\n",
       "      <th>BounceRates</th>\n",
       "      <th>ExitRates</th>\n",
       "      <th>PageValues</th>\n",
       "      <th>SpecialDay</th>\n",
       "      <th>Month</th>\n",
       "      <th>OperatingSystems</th>\n",
       "      <th>Browser</th>\n",
       "      <th>Region</th>\n",
       "      <th>TrafficType</th>\n",
       "      <th>VisitorType</th>\n",
       "      <th>Weekend</th>\n",
       "      <th>Revenue</th>\n",
       "    </tr>\n",
       "  </thead>\n",
       "  <tbody>\n",
       "    <tr>\n",
       "      <th>0</th>\n",
       "      <td>0</td>\n",
       "      <td>0.0</td>\n",
       "      <td>0</td>\n",
       "      <td>0.0</td>\n",
       "      <td>1</td>\n",
       "      <td>0.000000</td>\n",
       "      <td>0.20</td>\n",
       "      <td>0.20</td>\n",
       "      <td>0.0</td>\n",
       "      <td>0.0</td>\n",
       "      <td>Feb</td>\n",
       "      <td>1</td>\n",
       "      <td>1</td>\n",
       "      <td>1</td>\n",
       "      <td>1</td>\n",
       "      <td>Returning_Visitor</td>\n",
       "      <td>False</td>\n",
       "      <td>False</td>\n",
       "    </tr>\n",
       "    <tr>\n",
       "      <th>1</th>\n",
       "      <td>0</td>\n",
       "      <td>0.0</td>\n",
       "      <td>0</td>\n",
       "      <td>0.0</td>\n",
       "      <td>2</td>\n",
       "      <td>64.000000</td>\n",
       "      <td>0.00</td>\n",
       "      <td>0.10</td>\n",
       "      <td>0.0</td>\n",
       "      <td>0.0</td>\n",
       "      <td>Feb</td>\n",
       "      <td>2</td>\n",
       "      <td>2</td>\n",
       "      <td>1</td>\n",
       "      <td>2</td>\n",
       "      <td>Returning_Visitor</td>\n",
       "      <td>False</td>\n",
       "      <td>False</td>\n",
       "    </tr>\n",
       "    <tr>\n",
       "      <th>2</th>\n",
       "      <td>0</td>\n",
       "      <td>0.0</td>\n",
       "      <td>0</td>\n",
       "      <td>0.0</td>\n",
       "      <td>1</td>\n",
       "      <td>0.000000</td>\n",
       "      <td>0.20</td>\n",
       "      <td>0.20</td>\n",
       "      <td>0.0</td>\n",
       "      <td>0.0</td>\n",
       "      <td>Feb</td>\n",
       "      <td>4</td>\n",
       "      <td>1</td>\n",
       "      <td>9</td>\n",
       "      <td>3</td>\n",
       "      <td>Returning_Visitor</td>\n",
       "      <td>False</td>\n",
       "      <td>False</td>\n",
       "    </tr>\n",
       "    <tr>\n",
       "      <th>3</th>\n",
       "      <td>0</td>\n",
       "      <td>0.0</td>\n",
       "      <td>0</td>\n",
       "      <td>0.0</td>\n",
       "      <td>2</td>\n",
       "      <td>2.666667</td>\n",
       "      <td>0.05</td>\n",
       "      <td>0.14</td>\n",
       "      <td>0.0</td>\n",
       "      <td>0.0</td>\n",
       "      <td>Feb</td>\n",
       "      <td>3</td>\n",
       "      <td>2</td>\n",
       "      <td>2</td>\n",
       "      <td>4</td>\n",
       "      <td>Returning_Visitor</td>\n",
       "      <td>False</td>\n",
       "      <td>False</td>\n",
       "    </tr>\n",
       "    <tr>\n",
       "      <th>4</th>\n",
       "      <td>0</td>\n",
       "      <td>0.0</td>\n",
       "      <td>0</td>\n",
       "      <td>0.0</td>\n",
       "      <td>10</td>\n",
       "      <td>627.500000</td>\n",
       "      <td>0.02</td>\n",
       "      <td>0.05</td>\n",
       "      <td>0.0</td>\n",
       "      <td>0.0</td>\n",
       "      <td>Feb</td>\n",
       "      <td>3</td>\n",
       "      <td>3</td>\n",
       "      <td>1</td>\n",
       "      <td>4</td>\n",
       "      <td>Returning_Visitor</td>\n",
       "      <td>True</td>\n",
       "      <td>False</td>\n",
       "    </tr>\n",
       "  </tbody>\n",
       "</table>\n",
       "</div>"
      ],
      "text/plain": [
       "   Administrative  Administrative_Duration  Informational  \\\n",
       "0               0                      0.0              0   \n",
       "1               0                      0.0              0   \n",
       "2               0                      0.0              0   \n",
       "3               0                      0.0              0   \n",
       "4               0                      0.0              0   \n",
       "\n",
       "   Informational_Duration  ProductRelated  ProductRelated_Duration  \\\n",
       "0                     0.0               1                 0.000000   \n",
       "1                     0.0               2                64.000000   \n",
       "2                     0.0               1                 0.000000   \n",
       "3                     0.0               2                 2.666667   \n",
       "4                     0.0              10               627.500000   \n",
       "\n",
       "   BounceRates  ExitRates  PageValues  SpecialDay Month  OperatingSystems  \\\n",
       "0         0.20       0.20         0.0         0.0   Feb                 1   \n",
       "1         0.00       0.10         0.0         0.0   Feb                 2   \n",
       "2         0.20       0.20         0.0         0.0   Feb                 4   \n",
       "3         0.05       0.14         0.0         0.0   Feb                 3   \n",
       "4         0.02       0.05         0.0         0.0   Feb                 3   \n",
       "\n",
       "   Browser  Region  TrafficType        VisitorType  Weekend  Revenue  \n",
       "0        1       1            1  Returning_Visitor    False    False  \n",
       "1        2       1            2  Returning_Visitor    False    False  \n",
       "2        1       9            3  Returning_Visitor    False    False  \n",
       "3        2       2            4  Returning_Visitor    False    False  \n",
       "4        3       1            4  Returning_Visitor     True    False  "
      ]
     },
     "metadata": {},
     "output_type": "display_data"
    }
   ],
   "source": [
    "data_path = \"online_shoppers_intention.csv\"\n",
    "df = pd.read_csv(data_path)\n",
    "display(\n",
    "    df.shape,\n",
    "    df.head()\n",
    ")"
   ]
  },
  {
   "cell_type": "code",
   "execution_count": 5,
   "metadata": {},
   "outputs": [
    {
     "data": {
      "text/plain": [
       "(Administrative             0\n",
       " Administrative_Duration    0\n",
       " Informational              0\n",
       " Informational_Duration     0\n",
       " ProductRelated             0\n",
       " ProductRelated_Duration    0\n",
       " BounceRates                0\n",
       " ExitRates                  0\n",
       " PageValues                 0\n",
       " SpecialDay                 0\n",
       " Month                      0\n",
       " OperatingSystems           0\n",
       " Browser                    0\n",
       " Region                     0\n",
       " TrafficType                0\n",
       " VisitorType                0\n",
       " Weekend                    0\n",
       " Revenue                    0\n",
       " dtype: int64,\n",
       " 125)"
      ]
     },
     "execution_count": 5,
     "metadata": {},
     "output_type": "execute_result"
    }
   ],
   "source": [
    "# Step 1: Data Cleaning\n",
    "missing_values = df.isnull().sum()\n",
    "duplicates = df.duplicated().sum()\n",
    "\n",
    "# Step 2: Type Checking\n",
    "data_types = df.dtypes\n",
    "\n",
    "missing_values"
   ]
  },
  {
   "cell_type": "markdown",
   "metadata": {},
   "source": [
    "There are 125 duplicate entries."
   ]
  },
  {
   "cell_type": "code",
   "execution_count": 6,
   "metadata": {},
   "outputs": [
    {
     "data": {
      "text/plain": [
       "125"
      ]
     },
     "execution_count": 6,
     "metadata": {},
     "output_type": "execute_result"
    }
   ],
   "source": [
    "duplicates"
   ]
  },
  {
   "cell_type": "markdown",
   "metadata": {},
   "source": [
    "Type Checking:\n",
    "\n",
    "Numeric data is represented as int64 or float64, which is suitable for statistical analysis.\n",
    "The Month and VisitorType columns are of type object, which is expected for categorical data.\n",
    "The Weekend and Revenue columns are boolean, indicating true/false values, which is appropriate for binary categories."
   ]
  },
  {
   "cell_type": "code",
   "execution_count": 4,
   "metadata": {},
   "outputs": [
    {
     "data": {
      "text/plain": [
       "Administrative               int64\n",
       "Administrative_Duration    float64\n",
       "Informational                int64\n",
       "Informational_Duration     float64\n",
       "ProductRelated               int64\n",
       "ProductRelated_Duration    float64\n",
       "BounceRates                float64\n",
       "ExitRates                  float64\n",
       "PageValues                 float64\n",
       "SpecialDay                 float64\n",
       "Month                       object\n",
       "OperatingSystems             int64\n",
       "Browser                      int64\n",
       "Region                       int64\n",
       "TrafficType                  int64\n",
       "VisitorType                 object\n",
       "Weekend                       bool\n",
       "Revenue                       bool\n",
       "dtype: object"
      ]
     },
     "execution_count": 4,
     "metadata": {},
     "output_type": "execute_result"
    }
   ],
   "source": [
    "data_types"
   ]
  },
  {
   "cell_type": "markdown",
   "metadata": {},
   "source": [
    "The duplicates have been removed, reducing the dataset from 12,330 to 12,205 rows.\n",
    "The Month and VisitorType columns have been converted to categorical data types"
   ]
  },
  {
   "cell_type": "code",
   "execution_count": 9,
   "metadata": {},
   "outputs": [
    {
     "data": {
      "text/plain": [
       "(12205,\n",
       " 12205,\n",
       " Administrative                int64\n",
       " Administrative_Duration     float64\n",
       " Informational                 int64\n",
       " Informational_Duration      float64\n",
       " ProductRelated                int64\n",
       " ProductRelated_Duration     float64\n",
       " BounceRates                 float64\n",
       " ExitRates                   float64\n",
       " PageValues                  float64\n",
       " SpecialDay                  float64\n",
       " Month                      category\n",
       " OperatingSystems              int64\n",
       " Browser                       int64\n",
       " Region                        int64\n",
       " TrafficType                   int64\n",
       " VisitorType                category\n",
       " Weekend                        bool\n",
       " Revenue                        bool\n",
       " dtype: object)"
      ]
     },
     "execution_count": 9,
     "metadata": {},
     "output_type": "execute_result"
    }
   ],
   "source": [
    "# Removing duplicates\n",
    "rows_before = df.shape[0]\n",
    "df = df.drop_duplicates()\n",
    "\n",
    "# Convert 'Month' and 'VisitorType' to categorical types\n",
    "df['Month'] = df['Month'].astype('category')\n",
    "df['VisitorType'] = df['VisitorType'].astype('category')\n",
    "\n",
    "# Re-checking the data types after conversions\n",
    "updated_data_types = df.dtypes\n",
    "\n",
    "# Display the number of rows before and after removing duplicates\n",
    "rows_after = df.shape[0]\n",
    "rows_before, rows_after, updated_data_types"
   ]
  },
  {
   "cell_type": "markdown",
   "metadata": {},
   "source": [
    "Negative Values: There are no negative values in the numerical columns where it wouldn't make sense to have negative numbers.\n",
    "\n",
    "Rate Validity: The BounceRates and ExitRates columns do not contain any values exceeding 1, which aligns with the expectation that these rates should be between 0 and 1."
   ]
  },
  {
   "cell_type": "code",
   "execution_count": 10,
   "metadata": {},
   "outputs": [
    {
     "data": {
      "text/plain": [
       "(Administrative             0\n",
       " Administrative_Duration    0\n",
       " Informational              0\n",
       " Informational_Duration     0\n",
       " ProductRelated             0\n",
       " ProductRelated_Duration    0\n",
       " BounceRates                0\n",
       " ExitRates                  0\n",
       " PageValues                 0\n",
       " SpecialDay                 0\n",
       " OperatingSystems           0\n",
       " Browser                    0\n",
       " Region                     0\n",
       " TrafficType                0\n",
       " dtype: int64,\n",
       " 0,\n",
       " 0)"
      ]
     },
     "execution_count": 10,
     "metadata": {},
     "output_type": "execute_result"
    }
   ],
   "source": [
    "# Checking for any negative values in columns where it doesn't make sense to have negatives\n",
    "negative_values_check = (df.select_dtypes(include=['float64', 'int64']) < 0).sum()\n",
    "\n",
    "# Checking if BounceRates and ExitRates exceed 1\n",
    "invalid_bounce_rates = df[df['BounceRates'] > 1].shape[0]\n",
    "invalid_exit_rates = df[df['ExitRates'] > 1].shape[0]\n",
    "\n",
    "negative_values_check, invalid_bounce_rates, invalid_exit_rates"
   ]
  },
  {
   "cell_type": "markdown",
   "metadata": {},
   "source": [
    "ii. Statistical Analysis"
   ]
  },
  {
   "cell_type": "code",
   "execution_count": 11,
   "metadata": {},
   "outputs": [
    {
     "data": {
      "text/html": [
       "<div>\n",
       "<style scoped>\n",
       "    .dataframe tbody tr th:only-of-type {\n",
       "        vertical-align: middle;\n",
       "    }\n",
       "\n",
       "    .dataframe tbody tr th {\n",
       "        vertical-align: top;\n",
       "    }\n",
       "\n",
       "    .dataframe thead th {\n",
       "        text-align: right;\n",
       "    }\n",
       "</style>\n",
       "<table border=\"1\" class=\"dataframe\">\n",
       "  <thead>\n",
       "    <tr style=\"text-align: right;\">\n",
       "      <th></th>\n",
       "      <th>Administrative</th>\n",
       "      <th>Administrative_Duration</th>\n",
       "      <th>Informational</th>\n",
       "      <th>Informational_Duration</th>\n",
       "      <th>ProductRelated</th>\n",
       "      <th>ProductRelated_Duration</th>\n",
       "      <th>BounceRates</th>\n",
       "      <th>ExitRates</th>\n",
       "      <th>PageValues</th>\n",
       "      <th>SpecialDay</th>\n",
       "      <th>OperatingSystems</th>\n",
       "      <th>Browser</th>\n",
       "      <th>Region</th>\n",
       "      <th>TrafficType</th>\n",
       "    </tr>\n",
       "  </thead>\n",
       "  <tbody>\n",
       "    <tr>\n",
       "      <th>count</th>\n",
       "      <td>12205.000000</td>\n",
       "      <td>12205.000000</td>\n",
       "      <td>12205.000000</td>\n",
       "      <td>12205.000000</td>\n",
       "      <td>12205.000000</td>\n",
       "      <td>12205.000000</td>\n",
       "      <td>12205.000000</td>\n",
       "      <td>12205.000000</td>\n",
       "      <td>12205.000000</td>\n",
       "      <td>12205.000000</td>\n",
       "      <td>12205.000000</td>\n",
       "      <td>12205.000000</td>\n",
       "      <td>12205.000000</td>\n",
       "      <td>12205.000000</td>\n",
       "    </tr>\n",
       "    <tr>\n",
       "      <th>mean</th>\n",
       "      <td>2.338878</td>\n",
       "      <td>81.646331</td>\n",
       "      <td>0.508726</td>\n",
       "      <td>34.825454</td>\n",
       "      <td>32.045637</td>\n",
       "      <td>1206.982457</td>\n",
       "      <td>0.020370</td>\n",
       "      <td>0.041466</td>\n",
       "      <td>5.949574</td>\n",
       "      <td>0.061942</td>\n",
       "      <td>2.124211</td>\n",
       "      <td>2.357804</td>\n",
       "      <td>3.153298</td>\n",
       "      <td>4.073904</td>\n",
       "    </tr>\n",
       "    <tr>\n",
       "      <th>std</th>\n",
       "      <td>3.330436</td>\n",
       "      <td>177.491845</td>\n",
       "      <td>1.275617</td>\n",
       "      <td>141.424807</td>\n",
       "      <td>44.593649</td>\n",
       "      <td>1919.601400</td>\n",
       "      <td>0.045255</td>\n",
       "      <td>0.046163</td>\n",
       "      <td>18.653671</td>\n",
       "      <td>0.199666</td>\n",
       "      <td>0.906823</td>\n",
       "      <td>1.710114</td>\n",
       "      <td>2.402340</td>\n",
       "      <td>4.016654</td>\n",
       "    </tr>\n",
       "    <tr>\n",
       "      <th>min</th>\n",
       "      <td>0.000000</td>\n",
       "      <td>0.000000</td>\n",
       "      <td>0.000000</td>\n",
       "      <td>0.000000</td>\n",
       "      <td>0.000000</td>\n",
       "      <td>0.000000</td>\n",
       "      <td>0.000000</td>\n",
       "      <td>0.000000</td>\n",
       "      <td>0.000000</td>\n",
       "      <td>0.000000</td>\n",
       "      <td>1.000000</td>\n",
       "      <td>1.000000</td>\n",
       "      <td>1.000000</td>\n",
       "      <td>1.000000</td>\n",
       "    </tr>\n",
       "    <tr>\n",
       "      <th>25%</th>\n",
       "      <td>0.000000</td>\n",
       "      <td>0.000000</td>\n",
       "      <td>0.000000</td>\n",
       "      <td>0.000000</td>\n",
       "      <td>8.000000</td>\n",
       "      <td>193.000000</td>\n",
       "      <td>0.000000</td>\n",
       "      <td>0.014231</td>\n",
       "      <td>0.000000</td>\n",
       "      <td>0.000000</td>\n",
       "      <td>2.000000</td>\n",
       "      <td>2.000000</td>\n",
       "      <td>1.000000</td>\n",
       "      <td>2.000000</td>\n",
       "    </tr>\n",
       "    <tr>\n",
       "      <th>50%</th>\n",
       "      <td>1.000000</td>\n",
       "      <td>9.000000</td>\n",
       "      <td>0.000000</td>\n",
       "      <td>0.000000</td>\n",
       "      <td>18.000000</td>\n",
       "      <td>608.942857</td>\n",
       "      <td>0.002899</td>\n",
       "      <td>0.025000</td>\n",
       "      <td>0.000000</td>\n",
       "      <td>0.000000</td>\n",
       "      <td>2.000000</td>\n",
       "      <td>2.000000</td>\n",
       "      <td>3.000000</td>\n",
       "      <td>2.000000</td>\n",
       "    </tr>\n",
       "    <tr>\n",
       "      <th>75%</th>\n",
       "      <td>4.000000</td>\n",
       "      <td>94.700000</td>\n",
       "      <td>0.000000</td>\n",
       "      <td>0.000000</td>\n",
       "      <td>38.000000</td>\n",
       "      <td>1477.154762</td>\n",
       "      <td>0.016667</td>\n",
       "      <td>0.048529</td>\n",
       "      <td>0.000000</td>\n",
       "      <td>0.000000</td>\n",
       "      <td>3.000000</td>\n",
       "      <td>2.000000</td>\n",
       "      <td>4.000000</td>\n",
       "      <td>4.000000</td>\n",
       "    </tr>\n",
       "    <tr>\n",
       "      <th>max</th>\n",
       "      <td>27.000000</td>\n",
       "      <td>3398.750000</td>\n",
       "      <td>24.000000</td>\n",
       "      <td>2549.375000</td>\n",
       "      <td>705.000000</td>\n",
       "      <td>63973.522230</td>\n",
       "      <td>0.200000</td>\n",
       "      <td>0.200000</td>\n",
       "      <td>361.763742</td>\n",
       "      <td>1.000000</td>\n",
       "      <td>8.000000</td>\n",
       "      <td>13.000000</td>\n",
       "      <td>9.000000</td>\n",
       "      <td>20.000000</td>\n",
       "    </tr>\n",
       "  </tbody>\n",
       "</table>\n",
       "</div>"
      ],
      "text/plain": [
       "       Administrative  Administrative_Duration  Informational  \\\n",
       "count    12205.000000             12205.000000   12205.000000   \n",
       "mean         2.338878                81.646331       0.508726   \n",
       "std          3.330436               177.491845       1.275617   \n",
       "min          0.000000                 0.000000       0.000000   \n",
       "25%          0.000000                 0.000000       0.000000   \n",
       "50%          1.000000                 9.000000       0.000000   \n",
       "75%          4.000000                94.700000       0.000000   \n",
       "max         27.000000              3398.750000      24.000000   \n",
       "\n",
       "       Informational_Duration  ProductRelated  ProductRelated_Duration  \\\n",
       "count            12205.000000    12205.000000             12205.000000   \n",
       "mean                34.825454       32.045637              1206.982457   \n",
       "std                141.424807       44.593649              1919.601400   \n",
       "min                  0.000000        0.000000                 0.000000   \n",
       "25%                  0.000000        8.000000               193.000000   \n",
       "50%                  0.000000       18.000000               608.942857   \n",
       "75%                  0.000000       38.000000              1477.154762   \n",
       "max               2549.375000      705.000000             63973.522230   \n",
       "\n",
       "        BounceRates     ExitRates    PageValues    SpecialDay  \\\n",
       "count  12205.000000  12205.000000  12205.000000  12205.000000   \n",
       "mean       0.020370      0.041466      5.949574      0.061942   \n",
       "std        0.045255      0.046163     18.653671      0.199666   \n",
       "min        0.000000      0.000000      0.000000      0.000000   \n",
       "25%        0.000000      0.014231      0.000000      0.000000   \n",
       "50%        0.002899      0.025000      0.000000      0.000000   \n",
       "75%        0.016667      0.048529      0.000000      0.000000   \n",
       "max        0.200000      0.200000    361.763742      1.000000   \n",
       "\n",
       "       OperatingSystems       Browser        Region   TrafficType  \n",
       "count      12205.000000  12205.000000  12205.000000  12205.000000  \n",
       "mean           2.124211      2.357804      3.153298      4.073904  \n",
       "std            0.906823      1.710114      2.402340      4.016654  \n",
       "min            1.000000      1.000000      1.000000      1.000000  \n",
       "25%            2.000000      2.000000      1.000000      2.000000  \n",
       "50%            2.000000      2.000000      3.000000      2.000000  \n",
       "75%            3.000000      2.000000      4.000000      4.000000  \n",
       "max            8.000000     13.000000      9.000000     20.000000  "
      ]
     },
     "execution_count": 11,
     "metadata": {},
     "output_type": "execute_result"
    }
   ],
   "source": [
    "# Statistical Analysis: Descriptive Statistics\n",
    "\n",
    "descriptive_statistics = df.describe()\n",
    "descriptive_statistics"
   ]
  },
  {
   "cell_type": "markdown",
   "metadata": {},
   "source": [
    "Here's a summary of the findings:\n",
    "\n",
    "PageValues has the strongest positive correlation with Revenue, suggesting that pages with higher page values are more likely to result in a purchase. \n",
    "\n",
    "ProductRelated and ProductRelated_Duration also show positive correlations, indicating that more product-related interactions could lead to higher chances of a transaction.\n",
    "\n",
    "Administrative, Informational, and their respective duration features have weaker but still positive correlations with Revenue.\n",
    "\n",
    "BounceRates and ExitRates are negatively correlated with Revenue, which is intuitive as higher rates may indicate less engagement and lower likelihood of purchase.\n",
    "\n",
    "Features like Browser, TrafficType, Region, and OperatingSystems have very low correlation values, indicating they might have less predictive power for Revenue."
   ]
  },
  {
   "cell_type": "code",
   "execution_count": 15,
   "metadata": {},
   "outputs": [
    {
     "data": {
      "text/plain": [
       "Revenue_int                1.000000\n",
       "PageValues                 0.491894\n",
       "ProductRelated             0.156042\n",
       "ProductRelated_Duration    0.150077\n",
       "Administrative             0.136330\n",
       "Informational              0.093626\n",
       "Administrative_Duration    0.091768\n",
       "Informational_Duration     0.069358\n",
       "Browser                    0.024052\n",
       "TrafficType               -0.005618\n",
       "Region                    -0.012725\n",
       "OperatingSystems          -0.014927\n",
       "SpecialDay                -0.083601\n",
       "BounceRates               -0.145091\n",
       "ExitRates                 -0.204320\n",
       "Name: Revenue_int, dtype: float64"
      ]
     },
     "execution_count": 15,
     "metadata": {},
     "output_type": "execute_result"
    }
   ],
   "source": [
    "import numpy as np\n",
    "# correlation analysis\n",
    "df['Revenue_int'] = df['Revenue'].astype(int)\n",
    "\n",
    "df_numeric = df.select_dtypes(include=[np.number])\n",
    "\n",
    "# Calculating the correlation matrix\n",
    "correlation_matrix_numeric = df_numeric.corr()\n",
    "\n",
    "# Extracting the correlations with the target variable 'Revenue_int'\n",
    "target_correlation_numeric = correlation_matrix_numeric['Revenue_int'].sort_values(ascending=False)\n",
    "\n",
    "# Displaying the correlation values with 'Revenue_int'\n",
    "target_correlation_numeric"
   ]
  },
  {
   "cell_type": "markdown",
   "metadata": {},
   "source": [
    "PageValues: Sessions resulting in revenue tend to have significantly higher page values. This aligns with the positive correlation we observed, suggesting that higher page values are associated with a greater likelihood of transactions.\n",
    "\n",
    "ProductRelated: There's a noticeable difference in the distribution of the number of product-related pages visited. Sessions with revenue show a trend towards higher product-related page counts, supporting the positive correlation seen earlier.\n",
    "\n",
    "BounceRates: The boxplot indicates lower bounce rates for sessions leading to revenue, consistent with the negative correlation indicating that as bounce rates decrease, the likelihood of generating revenue increases.\n",
    "\n",
    "ExitRates: Similar to bounce rates, lower exit rates are observed in sessions that resulted in revenue, aligning with the negative correlation with Revenue."
   ]
  },
  {
   "cell_type": "code",
   "execution_count": 20,
   "metadata": {},
   "outputs": [
    {
     "data": {
      "image/png": "[encoded data removed]",
      "text/plain": [
       "<Figure size 800x800 with 4 Axes>"
      ]
     },
     "metadata": {},
     "output_type": "display_data"
    }
   ],
   "source": [
    "# Exploratory Data Analysis (EDA) - Data Visualization\n",
    "\n",
    "import matplotlib.pyplot as plt\n",
    "import seaborn as sns\n",
    "\n",
    "plt.figure(figsize=(8, 8))\n",
    "\n",
    "for i, feature in enumerate(['PageValues', 'ProductRelated', 'BounceRates', 'ExitRates'], 1):\n",
    "    plt.subplot(2, 2, i)\n",
    "    sns.boxplot(x='Revenue', y=feature, data=df)\n",
    "    plt.title(f'Boxplot of {feature} by Revenue')\n",
    "\n",
    "plt.tight_layout()\n",
    "plt.show()\n"
   ]
  },
  {
   "cell_type": "markdown",
   "metadata": {},
   "source": [
    "Page_Product_Interaction: The boxplot demonstrates a clear distinction in the interaction feature between sessions that resulted in revenue and those that did not. Sessions leading to revenue tend to have higher values of the Page_Product_Interaction feature, suggesting a relationship between these combined interactions and the likelihood of a purchase.\n",
    "\n",
    "PageValues_Binned: The countplot shows the distribution of sessions with zero and positive page values, segmented by whether they resulted in revenue or not. There's a noticeable trend that sessions with positive PageValues are more likely to result in revenue, aligning with our earlier correlation findings."
   ]
  },
  {
   "cell_type": "code",
   "execution_count": 28,
   "metadata": {},
   "outputs": [
    {
     "data": {
      "image/png": "[encoded data removed]",
      "text/plain": [
       "<Figure size 800x400 with 2 Axes>"
      ]
     },
     "metadata": {},
     "output_type": "display_data"
    }
   ],
   "source": [
    "import pandas as pd\n",
    "import numpy as np\n",
    "import matplotlib.pyplot as plt\n",
    "import seaborn as sns\n",
    "\n",
    "# Creating an interaction feature\n",
    "df['Page_Product_Interaction'] = df['PageValues'] * df['ProductRelated']\n",
    "\n",
    "# Bins are: \"Zero\" for 0 values, and \"Positive\" for greater than 0\n",
    "df['PageValues_Binned'] = pd.cut(df['PageValues'], bins=[-np.inf, 0, np.inf], labels=['Zero', 'Positive'])\n",
    "\n",
    "# Visualizing the new features in relation to Revenue\n",
    "plt.figure(figsize=(8, 4))\n",
    "\n",
    "# Interaction Feature\n",
    "plt.subplot(1, 2, 1)\n",
    "sns.boxplot(x='Revenue', y='Page_Product_Interaction', data=df)\n",
    "plt.title('Boxplot of Page_Product_Interaction by Revenue')\n",
    "\n",
    "# Binned PageValues\n",
    "plt.subplot(1, 2, 2)\n",
    "sns.countplot(x='PageValues_Binned', hue='Revenue', data=df)\n",
    "plt.title('Countplot of PageValues_Binned by Revenue')\n",
    "\n",
    "plt.tight_layout()\n",
    "plt.show()\n",
    "\n"
   ]
  },
  {
   "cell_type": "markdown",
   "metadata": {},
   "source": [
    "Encode Categorical Variables: Convert categorical variables to numerical using one-hot encoding\n",
    "\n",
    "Split the Data: Divide the dataset into features (X) and the target variable (y), then split these into training and testing sets to evaluate the model's performance.\n",
    "\n",
    "Model Preparation: Simple logistic regression model to predict revenue.\n",
    "\n",
    "Training set: Contains 8,543 samples.\n",
    "Testing set: Contains 3,662 samples.\n",
    "\n",
    "Both sets include 32 features after encoding the categorical variables."
   ]
  },
  {
   "cell_type": "code",
   "execution_count": 22,
   "metadata": {},
   "outputs": [
    {
     "data": {
      "text/plain": [
       "((8543, 30), (3662, 30), (8543,), (3662,))"
      ]
     },
     "execution_count": 22,
     "metadata": {},
     "output_type": "execute_result"
    }
   ],
   "source": [
    "from sklearn.model_selection import train_test_split\n",
    "from sklearn.preprocessing import OneHotEncoder\n",
    "from sklearn.compose import ColumnTransformer\n",
    "\n",
    "# Isolating the target variable and the features\n",
    "X = df.drop(['Revenue', 'Revenue_int'], axis=1)\n",
    "y = df['Revenue_int']\n",
    "\n",
    "# Identifying categorical columns for one-hot encoding\n",
    "categorical_features = X.select_dtypes(include=['object', 'category', 'bool']).columns.tolist()\n",
    "\n",
    "# Creating the column transformer with OneHotEncoder\n",
    "preprocessor = ColumnTransformer(transformers=[('cat', OneHotEncoder(), categorical_features)], remainder='passthrough')\n",
    "\n",
    "# Applying the transformations to the features\n",
    "X_processed = preprocessor.fit_transform(X)\n",
    "\n",
    "# Splitting the dataset into training and testing sets\n",
    "X_train, X_test, y_train, y_test = train_test_split(X_processed, y, test_size=0.3, random_state=42)\n",
    "\n",
    "# Outputting the shape of the splits for verification\n",
    "X_train.shape, X_test.shape, y_train.shape, y_test.shape\n"
   ]
  },
  {
   "cell_type": "markdown",
   "metadata": {},
   "source": [
    "Precision for Class 0 (No Revenue): 93% (high confidence in predicting non-revenue sessions)\n",
    "Precision for Class 1 (Revenue): 70% (moderate confidence in predicting revenue-generating sessions)\n",
    "Recall for Class 0: 96% (high capability in identifying actual non-revenue sessions)\n",
    "Recall for Class 1: 57% (moderate capability in identifying actual revenue sessions)\n",
    "F1-Score: Harmonic mean of precision and recall, providing a balance between the two in the context of an unbalanced dataset."
   ]
  },
  {
   "cell_type": "code",
   "execution_count": 31,
   "metadata": {},
   "outputs": [
    {
     "name": "stdout",
     "output_type": "stream",
     "text": [
      "Accuracy: 0.89\n",
      "\n",
      "Class\tPrecision\tRecall\tF1 Score\n",
      "0\t0.90\t\t0.97\t0.94\n",
      "1\t0.73\t\t0.39\t0.51\n"
     ]
    }
   ],
   "source": [
    "from sklearn.linear_model import LogisticRegression\n",
    "from sklearn.metrics import accuracy_score\n",
    "from sklearn.metrics import precision_score, recall_score, f1_score\n",
    "\n",
    "\n",
    "# Initializing the logistic regression model\n",
    "model = LogisticRegression(max_iter=10000)\n",
    "\n",
    "# Training the model\n",
    "model.fit(X_train, y_train)\n",
    "\n",
    "# Predicting the target variable for the test set\n",
    "y_pred = model.predict(X_test)\n",
    "\n",
    "# Calculating the accuracy and generating a classification report\n",
    "accuracy = accuracy_score(y_test, y_pred)\n",
    "\n",
    "# Calculate precision, recall, and F1 scores for each class\n",
    "precision = precision_score(y_test, y_pred, average=None)\n",
    "recall = recall_score(y_test, y_pred, average=None)\n",
    "f1 = f1_score(y_test, y_pred, average=None)\n",
    "\n",
    "# Print the classification report in a more readable format\n",
    "print(f'Accuracy: {accuracy:.2f}\\n')\n",
    "print(\"Class\\tPrecision\\tRecall\\tF1 Score\")\n",
    "for i, (p, r, f) in enumerate(zip(precision, recall, f1)):\n",
    "    print(f\"{i}\\t{p:.2f}\\t\\t{r:.2f}\\t{f:.2f}\")"
   ]
  }
 ],
 "metadata": {
  "kernelspec": {
   "display_name": "ML",
   "language": "python",
   "name": "python3"
  },
  "language_info": {
   "codemirror_mode": {
    "name": "ipython",
    "version": 3
   },
   "file_extension": ".py",
   "mimetype": "text/x-python",
   "name": "python",
   "nbconvert_exporter": "python",
   "pygments_lexer": "ipython3",
   "version": "3.10.9"
  }
 },
 "nbformat": 4,
 "nbformat_minor": 2
}
